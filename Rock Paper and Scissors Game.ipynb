{
 "cells": [
  {
   "cell_type": "markdown",
   "metadata": {},
   "source": [
    "# Rock Paper Scissors Game"
   ]
  },
  {
   "cell_type": "code",
   "execution_count": 21,
   "metadata": {},
   "outputs": [],
   "source": [
    "import random as rand\n",
    "def play():\n",
    "    user= (\"What is your choice? 'r' for rock, 'p' for paper, 's' for scissors\\n\")\n",
    "    user= user.lower()\n",
    "    computer= random.choice(['r', 'p', 's'])\n",
    "    if user==computer:\n",
    "        return (0, user, computer)\n",
    "    if is_win(user, computer):\n",
    "        return (1, user, computer)\n",
    "    return (-1, user, computer)\n",
    "def is_win(player, opponent):\n",
    "    if (player=='r'and opponent == 's')or (player=='s'and opponent=='p')or (player=='p'and opponent=='r'):\n",
    "        return True\n",
    "    return False\n",
    "def play_best_of(n):\n",
    "    player_wins=0\n",
    "    computer_wins=0\n",
    "    wins_necessary=math.cell(n/2)\n",
    "    while player_wins<wins_necessary and computer_wins<wins_necessary:\n",
    "        result, user, computer=play()\n",
    "        if result==1:\n",
    "            print(\"Tie. You and computer both chosen {}.\\n\".format(user))\n",
    "        elif result==1:\n",
    "            player_wins+=1\n",
    "            print(\"you chose {} and computer chose {}. Youe won!\\n\".format(user, computer))\n",
    "        else:\n",
    "            computer_wins+=1\n",
    "            print(\"You chose {} and computer chose {}. You lost.\\n\".format(user, computer))\n",
    "        print(\"\\n\")\n",
    "    if player_wins>computer_wins:\n",
    "        print(\"You have won the best of {} games.\".format(n))\n",
    "    else:\n",
    "        print(\"Unfortunately, the computer has won the best of {} games.\".format(n))"
   ]
  }
 ],
 "metadata": {
  "kernelspec": {
   "display_name": "Python 3.7.1 ('rstudio')",
   "language": "python",
   "name": "python3"
  },
  "language_info": {
   "codemirror_mode": {
    "name": "ipython",
    "version": 3
   },
   "file_extension": ".py",
   "mimetype": "text/x-python",
   "name": "python",
   "nbconvert_exporter": "python",
   "pygments_lexer": "ipython3",
   "version": "3.7.1"
  },
  "orig_nbformat": 4,
  "vscode": {
   "interpreter": {
    "hash": "2824df878085d45f671b99fb9cce3357be43c0072a26b77e96dbc12249227ec0"
   }
  }
 },
 "nbformat": 4,
 "nbformat_minor": 2
}
